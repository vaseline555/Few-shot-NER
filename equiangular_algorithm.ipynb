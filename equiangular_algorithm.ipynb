{
 "cells": [
  {
   "cell_type": "code",
   "execution_count": 1,
   "id": "b7da136b-f121-474f-85e9-661038dc9e24",
   "metadata": {
    "tags": []
   },
   "outputs": [],
   "source": [
    "import math\n",
    "import numpy as np\n",
    "import matplotlib.pyplot as plt\n",
    "from sklearn.manifold import TSNE"
   ]
  },
  {
   "cell_type": "code",
   "execution_count": 2,
   "id": "9400b7b4-17d0-4df3-b0cd-76bce630af2b",
   "metadata": {
    "tags": []
   },
   "outputs": [],
   "source": [
    "vandermonde_matrix = np.array([[(i + 1)**j for j in range(4)] for i in range(4)])"
   ]
  },
  {
   "cell_type": "code",
   "execution_count": 3,
   "id": "5dc11ec7-fbe7-4af6-a0cf-25916df864da",
   "metadata": {
    "tags": []
   },
   "outputs": [
    {
     "data": {
      "text/plain": [
       "array([[ 1,  1,  1,  1],\n",
       "       [ 1,  2,  4,  8],\n",
       "       [ 1,  3,  9, 27],\n",
       "       [ 1,  4, 16, 64]])"
      ]
     },
     "execution_count": 3,
     "metadata": {},
     "output_type": "execute_result"
    }
   ],
   "source": [
    "vandermonde_matrix"
   ]
  },
  {
   "cell_type": "code",
   "execution_count": 4,
   "id": "7849bddc-37dd-493a-b604-a3f25c6837f8",
   "metadata": {
    "tags": []
   },
   "outputs": [
    {
     "name": "stderr",
     "output_type": "stream",
     "text": [
      "/home/vaseline555/miniconda3/envs/deep/lib/python3.8/site-packages/sklearn/manifold/_t_sne.py:805: FutureWarning: The default learning rate in TSNE will change from 200.0 to 'auto' in 1.2.\n",
      "  warnings.warn(\n",
      "/home/vaseline555/miniconda3/envs/deep/lib/python3.8/site-packages/sklearn/manifold/_t_sne.py:991: FutureWarning: The PCA initialization in TSNE will change to have the standard deviation of PC1 equal to 1e-4 in 1.2. This will ensure better convergence.\n",
      "  warnings.warn(\n"
     ]
    }
   ],
   "source": [
    "X_viz = TSNE(n_components=2, init='pca').fit_transform(vandermonde_matrix)"
   ]
  },
  {
   "cell_type": "code",
   "execution_count": 5,
   "id": "a92b5b66-6ba9-4afa-aeb2-31439a718169",
   "metadata": {},
   "outputs": [
    {
     "data": {
      "image/png": "[encoded data removed]",
      "text/plain": [
       "<Figure size 432x288 with 1 Axes>"
      ]
     },
     "metadata": {
      "needs_background": "light"
     },
     "output_type": "display_data"
    }
   ],
   "source": [
    "plt.scatter(X_viz[:, 0], X_viz[:, 1])\n",
    "plt.show()"
   ]
  },
  {
   "cell_type": "code",
   "execution_count": 12,
   "id": "0c16e2ee-7c20-4853-b629-16d8fbe779ea",
   "metadata": {},
   "outputs": [],
   "source": [
    "def equiangular_algorithm(input_dim, truncate_dim=None, alpha=None, A=None):\n",
    "    if truncate_dim is None:\n",
    "        truncate_dim = input_dim\n",
    "    if alpha is None:\n",
    "        alpha = np.random.uniform(-1 / (input_dim - 1), 1)\n",
    "    if A is None:\n",
    "        A = np.eye(input_dim)\n",
    "    print(f\"[INFO] alpha = {alpha:.4f}\")\n",
    "    \n",
    "    # initialize internal variables\n",
    "    S = []\n",
    "    \n",
    "    s_bar = np.zeros(input_dim)\n",
    "    r = 0\n",
    "    v = [S[:, 0], S[:, 0]]\n",
    "    B = []\n",
    "    \n",
    "    for it, k in enumerate(range(1, truncate_dim)):\n",
    "        print(f\"[INFO] Iteration - {it + 1}\")\n",
    "        s_bar = s_bar + S[:, k - 1]\n",
    "        s = np.divide(s_bar, np.linalg.norm(s_bar))\n",
    "\n",
    "        q = np.power(np.linalg.norm(v[k].reshape(-1, 1) - (s.reshape(-1, 1) @ s.reshape(1, -1) @ A[:, k].reshape(-1, 1) + r)), -1) *\\\n",
    "        (A[:, k].reshape(-1, 1) - (s.reshape(-1, 1) @ s.reshape(1, -1) @ A[:, k].reshape(-1, 1) + r)); q = q.squeeze()\n",
    "        \n",
    "        v_k = q + np.divide(math.sqrt(k) * alpha, math.sqrt((1 - alpha) / (1 + k * alpha)) * s)\n",
    "        try:\n",
    "            v[k + 1] = v_k\n",
    "        except:\n",
    "            v.append(v_k)\n",
    "        S[:, k] = np.divide(v[k + 1], np.linalg.norm(v[k + 1]))\n",
    "        r = 0\n",
    "        B.append(S.sum(1) - (k - 1) * S[:, k])\n",
    "        for i in range(k):\n",
    "            r = r + np.divide(B[i].reshape(-1, 1) @ B[i].reshape(1, -1) @ A[:, k].reshape(-1, 1), np.power(np.linalg.norm(B[i]), 2))\n",
    "    return S"
   ]
  },
  {
   "cell_type": "code",
   "execution_count": 17,
   "id": "72821a5a-88fb-47c6-ba5d-a428a24cfca7",
   "metadata": {},
   "outputs": [
    {
     "name": "stdout",
     "output_type": "stream",
     "text": [
      "[INFO] alpha = -0.2254\n",
      "[INFO] Iteration - 1\n"
     ]
    }
   ],
   "source": [
    "S = equiangular_algorithm(input_dim=4, truncate_dim=2, A=vandermonde_matrix)"
   ]
  },
  {
   "cell_type": "code",
   "execution_count": 18,
   "id": "3bd9434b-b9af-4cfe-bf94-3c5c0f65bce5",
   "metadata": {},
   "outputs": [
    {
     "data": {
      "text/plain": [
       "array([[ 0.5       , -0.80679275,  0.03492151,  0.01512896],\n",
       "       [ 0.5       , -0.53179674,  0.13968606,  0.12103165],\n",
       "       [ 0.5       , -0.25680072,  0.31429363,  0.40848183],\n",
       "       [ 0.5       ,  0.01819529,  0.55874424,  0.96825322]])"
      ]
     },
     "execution_count": 18,
     "metadata": {},
     "output_type": "execute_result"
    }
   ],
   "source": [
    "S"
   ]
  },
  {
   "cell_type": "code",
   "execution_count": 19,
   "id": "f56165f9-03dc-45f5-8065-ae9a9258706f",
   "metadata": {},
   "outputs": [
    {
     "name": "stderr",
     "output_type": "stream",
     "text": [
      "/home/vaseline555/miniconda3/envs/deep/lib/python3.8/site-packages/sklearn/manifold/_t_sne.py:805: FutureWarning: The default learning rate in TSNE will change from 200.0 to 'auto' in 1.2.\n",
      "  warnings.warn(\n",
      "/home/vaseline555/miniconda3/envs/deep/lib/python3.8/site-packages/sklearn/manifold/_t_sne.py:991: FutureWarning: The PCA initialization in TSNE will change to have the standard deviation of PC1 equal to 1e-4 in 1.2. This will ensure better convergence.\n",
      "  warnings.warn(\n"
     ]
    }
   ],
   "source": [
    "S_viz = TSNE(n_components=2, init='pca').fit_transform(S)"
   ]
  },
  {
   "cell_type": "code",
   "execution_count": 20,
   "id": "1f051d6e-82de-44ec-b9b5-a02957b5eb9d",
   "metadata": {},
   "outputs": [
    {
     "data": {
      "image/png": "[encoded data removed]",
      "text/plain": [
       "<Figure size 432x288 with 1 Axes>"
      ]
     },
     "metadata": {
      "needs_background": "light"
     },
     "output_type": "display_data"
    }
   ],
   "source": [
    "plt.scatter(S_viz[:, 0], S_viz[:, 1])\n",
    "plt.show()"
   ]
  },
  {
   "cell_type": "code",
   "execution_count": 4,
   "id": "fec5590e-e938-4f30-855d-0fa4c9cd5776",
   "metadata": {},
   "outputs": [],
   "source": [
    "import numpy as np \n",
    "import scipy as sp \n",
    "import matplotlib.pyplot as plt\n",
    "\n",
    "import ot\n",
    "import requests\n",
    "\n",
    "from io import BytesIO"
   ]
  },
  {
   "cell_type": "code",
   "execution_count": 5,
   "id": "abc6cd30-ccc8-4521-b0c5-e44d2f3100cd",
   "metadata": {},
   "outputs": [
    {
     "name": "stdout",
     "output_type": "stream",
     "text": [
      "Bakery production: [31. 48. 82. 30. 40. 48. 89. 73.]\n",
      "Cafe sale: [82. 88. 92. 88. 91.]\n",
      "Total croissants : 441.0\n"
     ]
    }
   ],
   "source": [
    "r = requests.get('https://github.com/PythonOT/POT/raw/master/data/manhattan.npz', stream=True)\n",
    "data = np.load(BytesIO(r.raw.read()))\n",
    "bakery_pos = data['bakery_pos']\n",
    "bakery_prod = data['bakery_prod']\n",
    "cafe_pos = data['cafe_pos']\n",
    "cafe_prod = data['cafe_prod']\n",
    "Imap = data['Imap']\n",
    "print('Bakery production: {}'.format(bakery_prod))\n",
    "print('Cafe sale: {}'.format(cafe_prod))\n",
    "print('Total croissants : {}'.format(cafe_prod.sum()))"
   ]
  },
  {
   "cell_type": "code",
   "execution_count": 7,
   "id": "2e332ec3-a0b1-4345-9fab-31d8b6a04e47",
   "metadata": {},
   "outputs": [
    {
     "data": {
      "text/plain": [
       "array([[184.86464733, 201.8163543 ],\n",
       "       [449.3486663 , 168.40784664],\n",
       "       [245.41756746, 288.12166576],\n",
       "       [273.95400109, 364.68282915],\n",
       "       [494.58935376, 336.8424061 ],\n",
       "       [738.19305545, 238.70491485],\n",
       "       [736.10502372, 375.12298779],\n",
       "       [537.74200949, 482.30861653]])"
      ]
     },
     "execution_count": 7,
     "metadata": {},
     "output_type": "execute_result"
    }
   ],
   "source": [
    "bakery_pos"
   ]
  },
  {
   "cell_type": "code",
   "execution_count": 9,
   "id": "70268d75-f6d5-4ffd-a92f-7b25fd9eca56",
   "metadata": {},
   "outputs": [
    {
     "data": {
      "text/plain": [
       "array([31., 48., 82., 30., 40., 48., 89., 73.])"
      ]
     },
     "execution_count": 9,
     "metadata": {},
     "output_type": "execute_result"
    }
   ],
   "source": [
    "bakery_prod"
   ]
  },
  {
   "cell_type": "code",
   "execution_count": 21,
   "id": "c8d6a6b2-03a9-4080-ab2b-7a927a2a0783",
   "metadata": {},
   "outputs": [
    {
     "data": {
      "text/plain": [
       "((8, 2), (8,))"
      ]
     },
     "execution_count": 21,
     "metadata": {},
     "output_type": "execute_result"
    }
   ],
   "source": [
    "bakery_pos.shape, bakery_prod.shape"
   ]
  },
  {
   "cell_type": "code",
   "execution_count": 10,
   "id": "5122b55e-05c0-42e1-bfbe-78bdf23d7cd6",
   "metadata": {},
   "outputs": [
    {
     "data": {
      "text/plain": [
       "array([[302.08410452, 442.78633642],\n",
       "       [345.1162221 , 368.52123027],\n",
       "       [449.226184  , 201.94529124],\n",
       "       [454.08464888, 387.95508982],\n",
       "       [627.60125204, 408.7770822 ]])"
      ]
     },
     "execution_count": 10,
     "metadata": {},
     "output_type": "execute_result"
    }
   ],
   "source": [
    "cafe_pos"
   ]
  },
  {
   "cell_type": "code",
   "execution_count": 11,
   "id": "59007af9-9a47-4d6a-ac73-0092b870510c",
   "metadata": {},
   "outputs": [
    {
     "data": {
      "text/plain": [
       "array([82., 88., 92., 88., 91.])"
      ]
     },
     "execution_count": 11,
     "metadata": {},
     "output_type": "execute_result"
    }
   ],
   "source": [
    "cafe_prod"
   ]
  },
  {
   "cell_type": "code",
   "execution_count": 22,
   "id": "d79a8a5e-9139-4142-b19c-9de83dfd4023",
   "metadata": {},
   "outputs": [
    {
     "data": {
      "text/plain": [
       "((5, 2), (5,))"
      ]
     },
     "execution_count": 22,
     "metadata": {},
     "output_type": "execute_result"
    }
   ],
   "source": [
    "cafe_pos.shape, cafe_prod.shape"
   ]
  },
  {
   "cell_type": "code",
   "execution_count": 12,
   "id": "0e6fad84-0f2f-4dd5-99a5-c89c1b4eae64",
   "metadata": {},
   "outputs": [],
   "source": [
    "M = ot.dist(bakery_pos, cafe_pos)"
   ]
  },
  {
   "cell_type": "code",
   "execution_count": 14,
   "id": "79e8dbe2-0631-437e-90a9-d7b7d8316e09",
   "metadata": {},
   "outputs": [
    {
     "data": {
      "text/plain": [
       "(8, 5)"
      ]
     },
     "execution_count": 14,
     "metadata": {},
     "output_type": "execute_result"
    }
   ],
   "source": [
    "M.shape"
   ]
  },
  {
   "cell_type": "code",
   "execution_count": 15,
   "id": "3f21a809-0623-4b73-82cd-be367738fab3",
   "metadata": {},
   "outputs": [],
   "source": [
    "gamma_emd = ot.emd(bakery_prod, cafe_prod, M)"
   ]
  },
  {
   "cell_type": "code",
   "execution_count": 16,
   "id": "78ce3972-37aa-433c-ba37-9076986e39fa",
   "metadata": {},
   "outputs": [
    {
     "data": {
      "text/plain": [
       "array([[ 0., 31.,  0.,  0.,  0.],\n",
       "       [ 0.,  0., 48.,  0.,  0.],\n",
       "       [52., 30.,  0.,  0.,  0.],\n",
       "       [30.,  0.,  0.,  0.,  0.],\n",
       "       [ 0., 27.,  0., 13.,  0.],\n",
       "       [ 0.,  0., 44.,  2.,  2.],\n",
       "       [ 0.,  0.,  0.,  0., 89.],\n",
       "       [ 0.,  0.,  0., 73.,  0.]])"
      ]
     },
     "execution_count": 16,
     "metadata": {},
     "output_type": "execute_result"
    }
   ],
   "source": [
    "gamma_emd"
   ]
  },
  {
   "cell_type": "code",
   "execution_count": 17,
   "id": "be319701-ce1c-4f32-8c0e-592dc84635d6",
   "metadata": {},
   "outputs": [],
   "source": [
    "reg = 0.1\n",
    "K = np.exp(-M / M.max() / reg)\n",
    "nit = 100\n",
    "u = np.ones((len(bakery_prod), ))\n",
    "for i in range(1, nit):\n",
    "    v = cafe_prod / np.dot(K.T, u)\n",
    "    u = bakery_prod / (np.dot(K, v))\n",
    "gamma_sink_algo = np.atleast_2d(u).T * (K * v.T)  # Equivalent to np.dot(np.diag(u), np.dot(K, np.diag(v)))"
   ]
  },
  {
   "cell_type": "code",
   "execution_count": 18,
   "id": "847d9f78-2736-47b9-af76-c63a2391a960",
   "metadata": {},
   "outputs": [
    {
     "data": {
      "text/plain": [
       "array([[1.00416037e+01, 1.37328041e+01, 6.23706638e+00, 9.87724249e-01,\n",
       "        8.01565086e-04],\n",
       "       [1.18508628e+00, 5.17394370e+00, 3.75633747e+01, 3.93696614e+00,\n",
       "        1.40629197e-01],\n",
       "       [3.46328374e+01, 3.44443592e+01, 7.95769226e+00, 4.95384723e+00,\n",
       "        1.12638970e-02],\n",
       "       [1.57915377e+01, 1.08128957e+01, 1.10121003e+00, 2.28536698e+00,\n",
       "        8.98961254e-03],\n",
       "       [5.23923322e+00, 9.44592961e+00, 9.70851236e+00, 1.42855701e+01,\n",
       "        1.32075473e+00],\n",
       "       [7.63379114e-02, 6.09496306e-01, 2.05898321e+01, 7.25435993e+00,\n",
       "        1.94699738e+01],\n",
       "       [3.80308425e-01, 1.29025222e+00, 6.38378250e+00, 1.88121547e+01,\n",
       "        6.21335022e+01],\n",
       "       [1.46530554e+01, 1.24903191e+01, 2.45852969e+00, 3.54840107e+01,\n",
       "        7.91408507e+00]])"
      ]
     },
     "execution_count": 18,
     "metadata": {},
     "output_type": "execute_result"
    }
   ],
   "source": [
    "gamma_sink_algo"
   ]
  },
  {
   "cell_type": "code",
   "execution_count": 19,
   "id": "e0744acb-27ae-4c53-b310-9f2d51373a61",
   "metadata": {},
   "outputs": [],
   "source": [
    "gamma_sinkhorn = ot.sinkhorn(bakery_prod, cafe_prod, reg=reg, M=M/M.max())"
   ]
  },
  {
   "cell_type": "code",
   "execution_count": 20,
   "id": "74d6bd48-d910-4737-8cae-b5324ef7fe85",
   "metadata": {},
   "outputs": [
    {
     "data": {
      "text/plain": [
       "array([[1.00416037e+01, 1.37328041e+01, 6.23706638e+00, 9.87724249e-01,\n",
       "        8.01565086e-04],\n",
       "       [1.18508628e+00, 5.17394370e+00, 3.75633747e+01, 3.93696614e+00,\n",
       "        1.40629197e-01],\n",
       "       [3.46328374e+01, 3.44443592e+01, 7.95769226e+00, 4.95384723e+00,\n",
       "        1.12638970e-02],\n",
       "       [1.57915377e+01, 1.08128957e+01, 1.10121003e+00, 2.28536698e+00,\n",
       "        8.98961254e-03],\n",
       "       [5.23923322e+00, 9.44592961e+00, 9.70851236e+00, 1.42855701e+01,\n",
       "        1.32075473e+00],\n",
       "       [7.63379114e-02, 6.09496306e-01, 2.05898321e+01, 7.25435993e+00,\n",
       "        1.94699738e+01],\n",
       "       [3.80308425e-01, 1.29025222e+00, 6.38378250e+00, 1.88121547e+01,\n",
       "        6.21335022e+01],\n",
       "       [1.46530554e+01, 1.24903191e+01, 2.45852969e+00, 3.54840107e+01,\n",
       "        7.91408507e+00]])"
      ]
     },
     "execution_count": 20,
     "metadata": {},
     "output_type": "execute_result"
    }
   ],
   "source": [
    "gamma_sinkhorn"
   ]
  },
  {
   "cell_type": "code",
   "execution_count": null,
   "id": "5529aa22-da13-4c1a-8215-bbf832211a26",
   "metadata": {},
   "outputs": [],
   "source": []
  }
 ],
 "metadata": {
  "kernelspec": {
   "display_name": "DEEP",
   "language": "python",
   "name": "deep"
  },
  "language_info": {
   "codemirror_mode": {
    "name": "ipython",
    "version": 3
   },
   "file_extension": ".py",
   "mimetype": "text/x-python",
   "name": "python",
   "nbconvert_exporter": "python",
   "pygments_lexer": "ipython3",
   "version": "3.8.12"
  }
 },
 "nbformat": 4,
 "nbformat_minor": 5
}
