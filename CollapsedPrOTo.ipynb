{
 "cells": [
  {
   "cell_type": "markdown",
   "id": "6a1a4be2-3ef7-47d3-8c0d-0712c4f7d499",
   "metadata": {},
   "source": [
    "# OT tutorial"
   ]
  },
  {
   "cell_type": "code",
   "execution_count": 1,
   "id": "c5fa5dd1-36cf-47cd-b66c-9b0c8e7fa278",
   "metadata": {},
   "outputs": [],
   "source": [
    "import numpy as np\n",
    "import ot"
   ]
  },
  {
   "cell_type": "code",
   "execution_count": 2,
   "id": "7bf9b9bd-0258-4af8-95b8-64ef157ae12e",
   "metadata": {},
   "outputs": [],
   "source": [
    "from io import BytesIO\n",
    "import requests\n",
    "\n",
    "data_url = 'https://github.com/PythonOT/POT/raw/master/data/manhattan.npz'\n",
    "r = requests.get(data_url, stream=True)"
   ]
  },
  {
   "cell_type": "code",
   "execution_count": 3,
   "id": "18695d1e-97cc-49ab-8593-e754f4c9e96f",
   "metadata": {},
   "outputs": [
    {
     "name": "stdout",
     "output_type": "stream",
     "text": [
      "Bakery production: [31. 48. 82. 30. 40. 48. 89. 73.]\n",
      "Cafe sale: [82. 88. 92. 88. 91.]\n",
      "Total croissants : 441.0\n"
     ]
    }
   ],
   "source": [
    "data = np.load(BytesIO(r.raw.read()))\n",
    "bakery_pos = data['bakery_pos']\n",
    "bakery_prod = data['bakery_prod']\n",
    "cafe_pos = data['cafe_pos']\n",
    "cafe_prod = data['cafe_prod']\n",
    "Imap = data['Imap']\n",
    "print('Bakery production: {}'.format(bakery_prod))\n",
    "print('Cafe sale: {}'.format(cafe_prod))\n",
    "print('Total croissants : {}'.format(cafe_prod.sum()))"
   ]
  },
  {
   "cell_type": "code",
   "execution_count": 4,
   "id": "3722ac85-55d9-49f6-9510-ce8a64585845",
   "metadata": {},
   "outputs": [
    {
     "data": {
      "text/plain": [
       "((8, 2), (8,))"
      ]
     },
     "execution_count": 4,
     "metadata": {},
     "output_type": "execute_result"
    }
   ],
   "source": [
    "bakery_pos.shape, bakery_prod.shape"
   ]
  },
  {
   "cell_type": "code",
   "execution_count": 5,
   "id": "2164be2f-d3e1-48e4-9c61-e97afd8ce908",
   "metadata": {},
   "outputs": [
    {
     "data": {
      "text/plain": [
       "((5, 2), (5,))"
      ]
     },
     "execution_count": 5,
     "metadata": {},
     "output_type": "execute_result"
    }
   ],
   "source": [
    "cafe_pos.shape, cafe_prod.shape"
   ]
  },
  {
   "cell_type": "code",
   "execution_count": 6,
   "id": "e9ecf206-159d-4869-b2da-89dcf4becb7c",
   "metadata": {},
   "outputs": [],
   "source": [
    "M = ot.dist(bakery_pos, cafe_pos)"
   ]
  },
  {
   "cell_type": "code",
   "execution_count": 7,
   "id": "31601d30-69ce-4135-92b6-0181ca3ace0e",
   "metadata": {},
   "outputs": [
    {
     "data": {
      "text/plain": [
       "(8, 5)"
      ]
     },
     "execution_count": 7,
     "metadata": {},
     "output_type": "execute_result"
    }
   ],
   "source": [
    "M.shape"
   ]
  },
  {
   "cell_type": "code",
   "execution_count": 8,
   "id": "76817593-60ca-4ef3-9844-026feeee93ad",
   "metadata": {},
   "outputs": [],
   "source": [
    "gamma_emd = ot.emd(bakery_prod, cafe_prod, M)"
   ]
  },
  {
   "cell_type": "code",
   "execution_count": 9,
   "id": "6a9a3c94-11e1-420d-b476-4a93e06fd1f8",
   "metadata": {},
   "outputs": [
    {
     "data": {
      "text/plain": [
       "(8, 5)"
      ]
     },
     "execution_count": 9,
     "metadata": {},
     "output_type": "execute_result"
    }
   ],
   "source": [
    "gamma_emd.shape"
   ]
  },
  {
   "cell_type": "code",
   "execution_count": 10,
   "id": "f6dc64c3-6058-40b9-b11a-67568c61788e",
   "metadata": {},
   "outputs": [],
   "source": [
    "reg = 0.1\n",
    "K = np.exp(-M / M.max() / reg)\n",
    "nit = 100\n",
    "u = np.ones((len(bakery_prod), ))\n",
    "for i in range(1, nit):\n",
    "    v = cafe_prod / np.dot(K.T, u)\n",
    "    u = bakery_prod / (np.dot(K, v))\n",
    "gamma_sink_algo = np.atleast_2d(u).T * (K * v.T)  # Equivalent to np.dot(np.diag(u), np.dot(K, np.diag(v)))"
   ]
  },
  {
   "cell_type": "code",
   "execution_count": 11,
   "id": "4db88aab-3ee3-4305-b165-221fae333291",
   "metadata": {},
   "outputs": [
    {
     "data": {
      "text/plain": [
       "(8, 5)"
      ]
     },
     "execution_count": 11,
     "metadata": {},
     "output_type": "execute_result"
    }
   ],
   "source": [
    "gamma_sink_algo.shape"
   ]
  },
  {
   "cell_type": "code",
   "execution_count": 12,
   "id": "7ad0906b-fe40-4697-a93c-60fd190713c8",
   "metadata": {},
   "outputs": [],
   "source": [
    "gamma_sinkhorn = ot.sinkhorn(bakery_prod, cafe_prod, reg=reg, M=M/M.max())"
   ]
  },
  {
   "cell_type": "code",
   "execution_count": 13,
   "id": "b05b497e-66b8-4002-b182-22635be85221",
   "metadata": {},
   "outputs": [
    {
     "data": {
      "text/plain": [
       "(8, 5)"
      ]
     },
     "execution_count": 13,
     "metadata": {},
     "output_type": "execute_result"
    }
   ],
   "source": [
    "gamma_sinkhorn.shape"
   ]
  },
  {
   "cell_type": "code",
   "execution_count": 38,
   "id": "390711bd-784a-4c7a-a6d6-4a6045a4c1c7",
   "metadata": {},
   "outputs": [],
   "source": [
    "import numpy as np\n",
    "import matplotlib.pylab as pl\n",
    "import ot\n",
    "import ot.plot\n",
    "from ot.datasets import make_1D_gauss as gauss"
   ]
  },
  {
   "cell_type": "code",
   "execution_count": 94,
   "id": "12f08ac0-8b33-4ab8-a25c-50940189d046",
   "metadata": {},
   "outputs": [],
   "source": [
    "n = 5  # nb bins\n",
    "\n",
    "# bin positions\n",
    "x = np.arange(n, dtype=np.float64)\n",
    "\n",
    "# Gaussian distributions\n",
    "a = gauss(n, m=20, s=5)  # m= mean, s= std\n",
    "b = gauss(n, m=60, s=10)\n",
    "\n",
    "# loss matrix\n",
    "M = ot.dist(x.reshape((n, 1)), x.reshape((n, 1)))\n",
    "M /= M.max()"
   ]
  },
  {
   "cell_type": "code",
   "execution_count": 95,
   "id": "d9b4bd75-e412-4c90-b13c-6b45e156b1d2",
   "metadata": {},
   "outputs": [
    {
     "data": {
      "text/plain": [
       "<matplotlib.legend.Legend at 0x7ff6b0353b80>"
      ]
     },
     "execution_count": 95,
     "metadata": {},
     "output_type": "execute_result"
    },
    {
     "data": {
      "image/png": "[encoded data removed]",
      "text/plain": [
       "<Figure size 460.8x216 with 1 Axes>"
      ]
     },
     "metadata": {
      "needs_background": "light"
     },
     "output_type": "display_data"
    }
   ],
   "source": [
    "pl.figure(1, figsize=(6.4, 3))\n",
    "pl.plot(x, a, 'b', label='Source distribution')\n",
    "pl.plot(x, b, 'r', label='Target distribution')\n",
    "pl.legend()"
   ]
  },
  {
   "cell_type": "code",
   "execution_count": 96,
   "id": "7b7f0162-484b-4d75-92f1-e40f5a2b2f04",
   "metadata": {},
   "outputs": [
    {
     "data": {
      "image/png": "[encoded data removed]",
      "text/plain": [
       "<Figure size 360x360 with 3 Axes>"
      ]
     },
     "metadata": {
      "needs_background": "light"
     },
     "output_type": "display_data"
    }
   ],
   "source": [
    "pl.figure(2, figsize=(5, 5))\n",
    "ot.plot.plot1D_mat(a, b, M, 'Cost matrix M')"
   ]
  },
  {
   "cell_type": "code",
   "execution_count": 97,
   "id": "492d75fd-1316-4436-af6a-3410e69a8659",
   "metadata": {},
   "outputs": [
    {
     "name": "stdout",
     "output_type": "stream",
     "text": [
      "It.  |Err         \n",
      "-------------------\n",
      "    0|5.881712e-02|\n",
      "   10|5.881712e-02|\n",
      "   20|5.881712e-02|\n",
      "   30|5.881712e-02|\n",
      "   40|5.881712e-02|\n",
      "   50|5.881712e-02|\n",
      "   60|5.881712e-02|\n",
      "   70|5.881712e-02|\n",
      "   80|5.881712e-02|\n",
      "   90|5.881712e-02|\n",
      "  100|5.881712e-02|\n",
      "  110|5.881712e-02|\n",
      "  120|5.881712e-02|\n",
      "  130|5.881712e-02|\n",
      "  140|5.881712e-02|\n",
      "  150|5.881712e-02|\n",
      "  160|5.881712e-02|\n",
      "  170|5.881712e-02|\n",
      "  180|5.881712e-02|\n",
      "  190|5.881712e-02|\n",
      "It.  |Err         \n",
      "-------------------\n",
      "  200|5.881712e-02|\n",
      "  210|5.881712e-02|\n",
      "  220|5.881712e-02|\n",
      "  230|5.881712e-02|\n",
      "  240|5.881712e-02|\n",
      "  250|5.881712e-02|\n",
      "  260|5.881713e-02|\n",
      "  270|5.881713e-02|\n",
      "  280|5.881716e-02|\n",
      "  290|5.881737e-02|\n",
      "  300|5.881870e-02|\n",
      "  310|5.882725e-02|\n",
      "  320|5.888012e-02|\n",
      "  330|5.905751e-02|\n",
      "  340|5.919978e-02|\n",
      "  350|5.922981e-02|\n",
      "  360|5.918814e-02|\n",
      "  370|5.912321e-02|\n",
      "  380|5.969839e-02|\n",
      "  390|6.019823e-02|\n",
      "It.  |Err         \n",
      "-------------------\n",
      "  400|6.034950e-02|\n",
      "  410|6.036419e-02|\n",
      "  420|6.018489e-02|\n",
      "  430|5.892597e-02|\n",
      "  440|5.671015e-02|\n",
      "  450|5.725979e-02|\n",
      "  460|5.793503e-02|\n",
      "  470|5.819290e-02|\n",
      "  480|5.827343e-02|\n",
      "  490|5.829113e-02|\n",
      "  500|5.824856e-02|\n",
      "  510|5.788114e-02|\n",
      "  520|5.528732e-02|\n",
      "  530|4.233217e-02|\n",
      "  540|1.980137e-02|\n",
      "  550|7.567282e-03|\n",
      "  560|2.883160e-03|\n",
      "  570|1.095236e-03|\n",
      "  580|4.141814e-04|\n",
      "  590|1.562381e-04|\n",
      "It.  |Err         \n",
      "-------------------\n",
      "  600|5.887223e-05|\n",
      "  610|2.217408e-05|\n",
      "  620|8.350415e-06|\n",
      "  630|3.144437e-06|\n",
      "  640|1.184043e-06|\n",
      "  650|4.458491e-07|\n",
      "  660|1.678831e-07|\n",
      "  670|6.321576e-08|\n",
      "  680|2.380365e-08|\n",
      "  690|8.963172e-09|\n",
      "  700|3.375047e-09|\n",
      "  710|1.270861e-09|\n"
     ]
    },
    {
     "data": {
      "image/png": "[encoded data removed]",
      "text/plain": [
       "<Figure size 360x360 with 3 Axes>"
      ]
     },
     "metadata": {
      "needs_background": "light"
     },
     "output_type": "display_data"
    }
   ],
   "source": [
    "lambd = 1e-3\n",
    "Gs = ot.sinkhorn(a, b, M, lambd, verbose=True)\n",
    "\n",
    "pl.figure(4, figsize=(5, 5))\n",
    "ot.plot.plot1D_mat(a, b, Gs, 'OT matrix Sinkhorn')\n",
    "\n",
    "pl.show()"
   ]
  },
  {
   "cell_type": "code",
   "execution_count": 98,
   "id": "700998d0-218a-4691-94b8-151f43ddb366",
   "metadata": {},
   "outputs": [],
   "source": [
    "G0 = ot.emd_1d(x, x, a, b)"
   ]
  },
  {
   "cell_type": "code",
   "execution_count": 99,
   "id": "bb9b187a-ade5-4c02-87bf-ae1f8ca0a3f2",
   "metadata": {},
   "outputs": [
    {
     "data": {
      "text/plain": [
       "array([[0.02875604, 0.        , 0.        , 0.        , 0.        ],\n",
       "       [0.01664376, 0.04608674, 0.        , 0.        , 0.        ],\n",
       "       [0.        , 0.0362245 , 0.09525459, 0.        , 0.        ],\n",
       "       [0.        , 0.        , 0.05249336, 0.21227303, 0.        ],\n",
       "       [0.        , 0.        , 0.        , 0.05029436, 0.46197361]])"
      ]
     },
     "execution_count": 99,
     "metadata": {},
     "output_type": "execute_result"
    }
   ],
   "source": [
    "G0"
   ]
  },
  {
   "cell_type": "code",
   "execution_count": 100,
   "id": "1c72e5ad-bfff-4356-9a6b-9fb9ec43e9fe",
   "metadata": {},
   "outputs": [
    {
     "data": {
      "text/plain": [
       "array([[0.02875604, 0.        , 0.        , 0.        , 0.        ],\n",
       "       [0.01664376, 0.04608674, 0.        , 0.        , 0.        ],\n",
       "       [0.        , 0.0362245 , 0.09525459, 0.        , 0.        ],\n",
       "       [0.        , 0.        , 0.05249336, 0.21227303, 0.        ],\n",
       "       [0.        , 0.        , 0.        , 0.05029436, 0.46197361]])"
      ]
     },
     "execution_count": 100,
     "metadata": {},
     "output_type": "execute_result"
    }
   ],
   "source": [
    "Gs.round(8)"
   ]
  },
  {
   "cell_type": "code",
   "execution_count": 101,
   "id": "40919cf9-a0d2-4816-bd58-670a6c2eb211",
   "metadata": {},
   "outputs": [
    {
     "data": {
      "text/plain": [
       "(5,)"
      ]
     },
     "execution_count": 101,
     "metadata": {},
     "output_type": "execute_result"
    }
   ],
   "source": [
    "a.shape"
   ]
  },
  {
   "cell_type": "code",
   "execution_count": 102,
   "id": "0e4bf108-1d69-4932-b6a5-d417826cc515",
   "metadata": {},
   "outputs": [
    {
     "data": {
      "text/plain": [
       "(5,)"
      ]
     },
     "execution_count": 102,
     "metadata": {},
     "output_type": "execute_result"
    }
   ],
   "source": [
    "b.shape"
   ]
  },
  {
   "cell_type": "code",
   "execution_count": 128,
   "id": "5571ad93-580b-4867-957c-8d68a10d3213",
   "metadata": {},
   "outputs": [
    {
     "data": {
      "text/plain": [
       "array([0.02875604, 0.06273051, 0.1314791 , 0.26476638, 0.51226797])"
      ]
     },
     "execution_count": 128,
     "metadata": {},
     "output_type": "execute_result"
    }
   ],
   "source": [
    "a"
   ]
  },
  {
   "cell_type": "code",
   "execution_count": 129,
   "id": "4cd66bcb-91fd-4ec4-827a-35568792b487",
   "metadata": {},
   "outputs": [
    {
     "data": {
      "text/plain": [
       "array([0.0453998 , 0.08231125, 0.14774795, 0.26256739, 0.46197361])"
      ]
     },
     "execution_count": 129,
     "metadata": {},
     "output_type": "execute_result"
    }
   ],
   "source": [
    "b"
   ]
  },
  {
   "cell_type": "code",
   "execution_count": 143,
   "id": "51fa3531-a7d4-476b-b1f4-aa7eecb70a1f",
   "metadata": {},
   "outputs": [],
   "source": [
    "ot_sh = ot.da.SinkhornTransport().fit(Xs=a.reshape(-1, 1), Xt=b.reshape(-1, 1))"
   ]
  },
  {
   "cell_type": "code",
   "execution_count": 144,
   "id": "385466ee-b4f6-4f3c-8ff2-f47000f90d3c",
   "metadata": {},
   "outputs": [
    {
     "data": {
      "text/plain": [
       "array([[0.04211326, 0.04161012, 0.04071661, 0.0391454 , 0.03641461],\n",
       "       [0.04169299, 0.04129832, 0.04059158, 0.03933086, 0.03708625],\n",
       "       [0.04084269, 0.04066192, 0.04032729, 0.03969656, 0.03847155],\n",
       "       [0.0391961 , 0.03940848, 0.03977192, 0.0403667 , 0.04125681],\n",
       "       [0.03615497, 0.03702115, 0.03859261, 0.04146049, 0.04677078]])"
      ]
     },
     "execution_count": 144,
     "metadata": {},
     "output_type": "execute_result"
    }
   ],
   "source": [
    "ot_sh.coupling_"
   ]
  },
  {
   "cell_type": "code",
   "execution_count": 145,
   "id": "61c2b77d-b9af-43ea-b270-8aa2d611808c",
   "metadata": {},
   "outputs": [
    {
     "data": {
      "text/plain": [
       "array([0.03819304, 0.03853812, 0.03924547, 0.0406507 , 0.04337267])"
      ]
     },
     "execution_count": 145,
     "metadata": {},
     "output_type": "execute_result"
    }
   ],
   "source": [
    "ot_sh.coupling_ @ a"
   ]
  },
  {
   "cell_type": "code",
   "execution_count": 135,
   "id": "2695b0cc-9051-4bf3-9300-69a59024aaf0",
   "metadata": {},
   "outputs": [
    {
     "data": {
      "text/plain": [
       "array([[0.0453998 ],\n",
       "       [0.08231125],\n",
       "       [0.14774795],\n",
       "       [0.26256739],\n",
       "       [0.46197361]])"
      ]
     },
     "execution_count": 135,
     "metadata": {},
     "output_type": "execute_result"
    }
   ],
   "source": [
    "ot_sh.transform(a.reshape(-1, 1))"
   ]
  },
  {
   "cell_type": "markdown",
   "id": "83d0b622-7652-4b19-bea7-30d71894c8f3",
   "metadata": {},
   "source": [
    "# Prototyping"
   ]
  },
  {
   "cell_type": "code",
   "execution_count": 1,
   "id": "13a247d9-399d-46ae-a448-37809b75e931",
   "metadata": {},
   "outputs": [],
   "source": [
    "import math\n",
    "import torch\n",
    "import ot"
   ]
  },
  {
   "cell_type": "code",
   "execution_count": 2,
   "id": "68753e60-0381-4e0d-910f-9acba430182e",
   "metadata": {},
   "outputs": [],
   "source": [
    "import matplotlib.pyplot as plt\n",
    "from sklearn.manifold import TSNE"
   ]
  },
  {
   "cell_type": "code",
   "execution_count": 3,
   "id": "df271481-941d-4d04-9ed1-0ec463953434",
   "metadata": {},
   "outputs": [],
   "source": [
    "N = 5; D = 768"
   ]
  },
  {
   "cell_type": "code",
   "execution_count": 4,
   "id": "46a30d57-fe23-485d-adae-d0443b310584",
   "metadata": {},
   "outputs": [],
   "source": [
    "G = torch.randn(N + 1, D)"
   ]
  },
  {
   "cell_type": "code",
   "execution_count": 5,
   "id": "bdf02ee6-39da-426f-a3f8-d81d4c7a6568",
   "metadata": {},
   "outputs": [
    {
     "name": "stderr",
     "output_type": "stream",
     "text": [
      "/home/vaseline555/miniconda3/envs/deep/lib/python3.8/site-packages/sklearn/manifold/_t_sne.py:805: FutureWarning: The default learning rate in TSNE will change from 200.0 to 'auto' in 1.2.\n",
      "  warnings.warn(\n",
      "/home/vaseline555/miniconda3/envs/deep/lib/python3.8/site-packages/sklearn/manifold/_t_sne.py:991: FutureWarning: The PCA initialization in TSNE will change to have the standard deviation of PC1 equal to 1e-4 in 1.2. This will ensure better convergence.\n",
      "  warnings.warn(\n"
     ]
    }
   ],
   "source": [
    "G_viz = TSNE(init='pca').fit_transform(G)"
   ]
  },
  {
   "cell_type": "code",
   "execution_count": 6,
   "id": "2a085a92-46fe-4b36-8b4b-de490868df41",
   "metadata": {},
   "outputs": [
    {
     "data": {
      "image/png": "[encoded data removed]",
      "text/plain": [
       "<Figure size 432x288 with 1 Axes>"
      ]
     },
     "metadata": {
      "needs_background": "light"
     },
     "output_type": "display_data"
    }
   ],
   "source": [
    "plt.scatter(G_viz[:, 0], G_viz[:, 1])\n",
    "plt.show()"
   ]
  },
  {
   "cell_type": "code",
   "execution_count": 7,
   "id": "41974e5b-6626-41ec-80ec-833ead45fdb7",
   "metadata": {},
   "outputs": [],
   "source": [
    "U = torch.nn.functional.pad(torch.eye(N), (0, 0, 0, D - N), mode='constant')"
   ]
  },
  {
   "cell_type": "code",
   "execution_count": 8,
   "id": "d446c777-6b24-43dc-8ef2-17332f0b3d59",
   "metadata": {},
   "outputs": [
    {
     "data": {
      "text/plain": [
       "torch.Size([768, 5])"
      ]
     },
     "execution_count": 8,
     "metadata": {},
     "output_type": "execute_result"
    }
   ],
   "source": [
    "U.shape"
   ]
  },
  {
   "cell_type": "code",
   "execution_count": 9,
   "id": "42d75ac9-aebd-4e82-83f3-1854019b479c",
   "metadata": {},
   "outputs": [],
   "source": [
    "u_list = []\n",
    "for i in range(N // 2):\n",
    "    alpha = torch.randint(low=0, high=360, size=(1,))\n",
    "    angle_to_radian = torch.tensor(math.pi / 180)\n",
    "    s = torch.sin(alpha * angle_to_radian)\n",
    "    c = torch.cos(alpha * angle_to_radian)\n",
    "    rot = torch.tensor([[c, -s], [s, c]])\n",
    "    u_list.append(rot)\n",
    "else:\n",
    "    if N % 2 == 1:\n",
    "        u_list.append(torch.tensor([1]))\n",
    "    U = torch.block_diag(*u_list)\n",
    "    U = torch.nn.functional.pad(U, (0, 0, 0, D - N), mode='constant')"
   ]
  },
  {
   "cell_type": "code",
   "execution_count": 10,
   "id": "ea2f74fe-a166-4e40-9a71-8491bf095eea",
   "metadata": {},
   "outputs": [
    {
     "data": {
      "text/plain": [
       "tensor([[ 0.8290,  0.5592,  0.0000,  0.0000,  0.0000],\n",
       "        [-0.5592,  0.8290,  0.0000,  0.0000,  0.0000],\n",
       "        [ 0.0000,  0.0000,  0.8387, -0.5446,  0.0000],\n",
       "        ...,\n",
       "        [ 0.0000,  0.0000,  0.0000,  0.0000,  0.0000],\n",
       "        [ 0.0000,  0.0000,  0.0000,  0.0000,  0.0000],\n",
       "        [ 0.0000,  0.0000,  0.0000,  0.0000,  0.0000]])"
      ]
     },
     "execution_count": 10,
     "metadata": {},
     "output_type": "execute_result"
    }
   ],
   "source": [
    "U"
   ]
  },
  {
   "cell_type": "code",
   "execution_count": 11,
   "id": "c3ea4802-fc8c-4e0d-97c5-1aea5b0c48ce",
   "metadata": {},
   "outputs": [
    {
     "data": {
      "text/plain": [
       "tensor([[ 1.0000e+00,  1.4693e-08,  0.0000e+00,  0.0000e+00,  0.0000e+00],\n",
       "        [ 1.4693e-08,  1.0000e+00,  0.0000e+00,  0.0000e+00,  0.0000e+00],\n",
       "        [ 0.0000e+00,  0.0000e+00,  1.0000e+00, -1.1267e-08,  0.0000e+00],\n",
       "        [ 0.0000e+00,  0.0000e+00, -1.1267e-08,  1.0000e+00,  0.0000e+00],\n",
       "        [ 0.0000e+00,  0.0000e+00,  0.0000e+00,  0.0000e+00,  1.0000e+00]])"
      ]
     },
     "execution_count": 11,
     "metadata": {},
     "output_type": "execute_result"
    }
   ],
   "source": [
    "U.T @ U"
   ]
  },
  {
   "cell_type": "code",
   "execution_count": 12,
   "id": "d55272f5-081e-4175-94a2-01dff9a82052",
   "metadata": {},
   "outputs": [],
   "source": [
    "M = (torch.eye(N) - (torch.ones(N, 1) @ torch.ones(1, N)).div(N)).mul(math.sqrt(N / (N - 1))) @ U.T"
   ]
  },
  {
   "cell_type": "code",
   "execution_count": 13,
   "id": "e0553c61-8e80-486f-8b67-a09aae2d8e3c",
   "metadata": {},
   "outputs": [
    {
     "data": {
      "text/plain": [
       "torch.Size([5, 768])"
      ]
     },
     "execution_count": 13,
     "metadata": {},
     "output_type": "execute_result"
    }
   ],
   "source": [
    "M.shape"
   ]
  },
  {
   "cell_type": "code",
   "execution_count": 14,
   "id": "9fb43f12-b5ca-4cf5-9865-99d4e43df228",
   "metadata": {},
   "outputs": [],
   "source": [
    "G_tilde = torch.cat([torch.zeros(1, D), M], dim=0)"
   ]
  },
  {
   "cell_type": "code",
   "execution_count": 15,
   "id": "a7986a67-ed7c-49fa-91dd-0f33d0a4af4c",
   "metadata": {},
   "outputs": [
    {
     "data": {
      "text/plain": [
       "tensor([[-0.0510, -1.1968, -0.0669,  ...,  0.6535, -0.1063,  0.2504],\n",
       "        [ 1.2356,  0.7037,  0.7355,  ..., -1.2438,  0.2437, -0.8877],\n",
       "        [-0.0240,  0.0736,  1.6822,  ..., -2.5162, -1.1250,  0.0482],\n",
       "        [ 1.0883, -1.3388,  1.7169,  ...,  0.5536,  1.1363, -1.1384],\n",
       "        [ 0.8082, -0.5487,  1.0498,  ...,  0.1539, -0.9903,  0.2566],\n",
       "        [ 0.2579, -0.1429,  0.2355,  ...,  1.5966,  0.6731, -1.2534]])"
      ]
     },
     "execution_count": 15,
     "metadata": {},
     "output_type": "execute_result"
    }
   ],
   "source": [
    "G"
   ]
  },
  {
   "cell_type": "code",
   "execution_count": 16,
   "id": "5fec33f3-dbd5-48ad-97eb-b9e1c6eb0be1",
   "metadata": {},
   "outputs": [
    {
     "data": {
      "text/plain": [
       "tensor([[ 0.0000,  0.0000,  0.0000,  ...,  0.0000,  0.0000,  0.0000],\n",
       "        [ 0.6165, -0.6855, -0.0657,  ...,  0.0000,  0.0000,  0.0000],\n",
       "        [ 0.3148,  0.8666, -0.0657,  ...,  0.0000,  0.0000,  0.0000],\n",
       "        [-0.3104, -0.0603,  0.8719,  ...,  0.0000,  0.0000,  0.0000],\n",
       "        [-0.3104, -0.0603, -0.6747,  ...,  0.0000,  0.0000,  0.0000],\n",
       "        [-0.3104, -0.0603, -0.0657,  ...,  0.0000,  0.0000,  0.0000]])"
      ]
     },
     "execution_count": 16,
     "metadata": {},
     "output_type": "execute_result"
    }
   ],
   "source": [
    "G_tilde"
   ]
  },
  {
   "cell_type": "code",
   "execution_count": 17,
   "id": "3e9acbca-9f3c-4613-94d7-7fdbfb55e9b6",
   "metadata": {},
   "outputs": [],
   "source": [
    "ot_sh = ot.da.EMDTransport().fit(\n",
    "    Xs=G,\n",
    "    ys=torch.arange(N + 1), \n",
    "    Xt=G_tilde,\n",
    "    yt=torch.arange(N + 1)\n",
    ")"
   ]
  },
  {
   "cell_type": "code",
   "execution_count": 19,
   "id": "cb5e26f5-16c4-4a1d-ade6-728154f4522f",
   "metadata": {},
   "outputs": [
    {
     "data": {
      "text/plain": [
       "tensor([[ 0.0000,  0.0000,  0.0000,  ...,  0.0000,  0.0000,  0.0000],\n",
       "        [ 0.6165, -0.6855, -0.0657,  ...,  0.0000,  0.0000,  0.0000],\n",
       "        [ 0.3148,  0.8666, -0.0657,  ...,  0.0000,  0.0000,  0.0000],\n",
       "        [-0.3104, -0.0603,  0.8719,  ...,  0.0000,  0.0000,  0.0000],\n",
       "        [-0.3104, -0.0603, -0.6747,  ...,  0.0000,  0.0000,  0.0000],\n",
       "        [-0.3104, -0.0603, -0.0657,  ...,  0.0000,  0.0000,  0.0000]])"
      ]
     },
     "execution_count": 19,
     "metadata": {},
     "output_type": "execute_result"
    }
   ],
   "source": [
    "ot_sh.transform(G)"
   ]
  },
  {
   "cell_type": "code",
   "execution_count": null,
   "id": "5ac8bcc4-6fc7-44db-8a3f-a81c6dea3205",
   "metadata": {},
   "outputs": [],
   "source": []
  },
  {
   "cell_type": "code",
   "execution_count": null,
   "id": "660f79c3-d342-4f5c-9f1a-fd1fa2057e17",
   "metadata": {},
   "outputs": [],
   "source": []
  },
  {
   "cell_type": "code",
   "execution_count": 29,
   "id": "0ada78b7-24bd-406c-8fd2-0c2225f82f55",
   "metadata": {},
   "outputs": [
    {
     "name": "stderr",
     "output_type": "stream",
     "text": [
      "/home/vaseline555/miniconda3/envs/deep/lib/python3.8/site-packages/sklearn/manifold/_t_sne.py:805: FutureWarning: The default learning rate in TSNE will change from 200.0 to 'auto' in 1.2.\n",
      "  warnings.warn(\n",
      "/home/vaseline555/miniconda3/envs/deep/lib/python3.8/site-packages/sklearn/manifold/_t_sne.py:991: FutureWarning: The PCA initialization in TSNE will change to have the standard deviation of PC1 equal to 1e-4 in 1.2. This will ensure better convergence.\n",
      "  warnings.warn(\n"
     ]
    }
   ],
   "source": [
    "G_viz = TSNE(init='pca').fit_transform(G_tilde)"
   ]
  },
  {
   "cell_type": "code",
   "execution_count": 30,
   "id": "d2a5224b-260b-4563-9d2d-367fafc911a2",
   "metadata": {},
   "outputs": [
    {
     "data": {
      "image/png": "[encoded data removed]",
      "text/plain": [
       "<Figure size 432x288 with 1 Axes>"
      ]
     },
     "metadata": {
      "needs_background": "light"
     },
     "output_type": "display_data"
    }
   ],
   "source": [
    "plt.scatter(G_viz[:, 0], G_viz[:, 1])\n",
    "plt.show()"
   ]
  },
  {
   "cell_type": "code",
   "execution_count": 98,
   "id": "8e07a00d-a9e2-4f31-81c6-1ee3f17b1919",
   "metadata": {},
   "outputs": [],
   "source": [
    "T = torch.linalg.lstsq(G, G_tilde)[0].T"
   ]
  },
  {
   "cell_type": "code",
   "execution_count": 99,
   "id": "70c45e27-2e3d-43a2-a88d-0e265bef23ff",
   "metadata": {
    "scrolled": true,
    "tags": []
   },
   "outputs": [
    {
     "data": {
      "text/plain": [
       "tensor([ 0.8944, -0.2236, -0.2236, -0.2236, -0.2236,  0.0000,  0.0000,  0.0000,\n",
       "         0.0000,  0.0000,  0.0000,  0.0000,  0.0000,  0.0000,  0.0000,  0.0000,\n",
       "         0.0000,  0.0000,  0.0000,  0.0000,  0.0000,  0.0000,  0.0000,  0.0000,\n",
       "         0.0000,  0.0000,  0.0000,  0.0000,  0.0000,  0.0000,  0.0000,  0.0000,\n",
       "         0.0000,  0.0000,  0.0000,  0.0000,  0.0000,  0.0000,  0.0000,  0.0000,\n",
       "         0.0000,  0.0000,  0.0000,  0.0000,  0.0000,  0.0000,  0.0000,  0.0000,\n",
       "         0.0000,  0.0000,  0.0000,  0.0000,  0.0000,  0.0000,  0.0000,  0.0000,\n",
       "         0.0000,  0.0000,  0.0000,  0.0000,  0.0000,  0.0000,  0.0000,  0.0000,\n",
       "         0.0000,  0.0000,  0.0000,  0.0000,  0.0000,  0.0000,  0.0000,  0.0000,\n",
       "         0.0000,  0.0000,  0.0000,  0.0000,  0.0000,  0.0000,  0.0000,  0.0000,\n",
       "         0.0000,  0.0000,  0.0000,  0.0000,  0.0000,  0.0000,  0.0000,  0.0000,\n",
       "         0.0000,  0.0000,  0.0000,  0.0000,  0.0000,  0.0000,  0.0000,  0.0000,\n",
       "         0.0000,  0.0000,  0.0000,  0.0000,  0.0000,  0.0000,  0.0000,  0.0000,\n",
       "         0.0000,  0.0000,  0.0000,  0.0000,  0.0000,  0.0000,  0.0000,  0.0000,\n",
       "         0.0000,  0.0000,  0.0000,  0.0000,  0.0000,  0.0000,  0.0000,  0.0000,\n",
       "         0.0000,  0.0000,  0.0000,  0.0000,  0.0000,  0.0000,  0.0000,  0.0000,\n",
       "         0.0000,  0.0000,  0.0000,  0.0000,  0.0000,  0.0000,  0.0000,  0.0000,\n",
       "         0.0000,  0.0000,  0.0000,  0.0000,  0.0000,  0.0000,  0.0000,  0.0000,\n",
       "         0.0000,  0.0000,  0.0000,  0.0000,  0.0000,  0.0000,  0.0000,  0.0000,\n",
       "         0.0000,  0.0000,  0.0000,  0.0000,  0.0000,  0.0000,  0.0000,  0.0000,\n",
       "         0.0000,  0.0000,  0.0000,  0.0000,  0.0000,  0.0000,  0.0000,  0.0000,\n",
       "         0.0000,  0.0000,  0.0000,  0.0000,  0.0000,  0.0000,  0.0000,  0.0000,\n",
       "         0.0000,  0.0000,  0.0000,  0.0000,  0.0000,  0.0000,  0.0000,  0.0000,\n",
       "         0.0000,  0.0000,  0.0000,  0.0000,  0.0000,  0.0000,  0.0000,  0.0000,\n",
       "         0.0000,  0.0000,  0.0000,  0.0000,  0.0000,  0.0000,  0.0000,  0.0000,\n",
       "         0.0000,  0.0000,  0.0000,  0.0000,  0.0000,  0.0000,  0.0000,  0.0000,\n",
       "         0.0000,  0.0000,  0.0000,  0.0000,  0.0000,  0.0000,  0.0000,  0.0000,\n",
       "         0.0000,  0.0000,  0.0000,  0.0000,  0.0000,  0.0000,  0.0000,  0.0000,\n",
       "         0.0000,  0.0000,  0.0000,  0.0000,  0.0000,  0.0000,  0.0000,  0.0000,\n",
       "         0.0000,  0.0000,  0.0000,  0.0000,  0.0000,  0.0000,  0.0000,  0.0000,\n",
       "         0.0000,  0.0000,  0.0000,  0.0000,  0.0000,  0.0000,  0.0000,  0.0000,\n",
       "         0.0000,  0.0000,  0.0000,  0.0000,  0.0000,  0.0000,  0.0000,  0.0000,\n",
       "         0.0000,  0.0000,  0.0000,  0.0000,  0.0000,  0.0000,  0.0000,  0.0000,\n",
       "         0.0000,  0.0000,  0.0000,  0.0000,  0.0000,  0.0000,  0.0000,  0.0000,\n",
       "         0.0000,  0.0000,  0.0000,  0.0000,  0.0000,  0.0000,  0.0000,  0.0000,\n",
       "         0.0000,  0.0000,  0.0000,  0.0000,  0.0000,  0.0000,  0.0000,  0.0000,\n",
       "         0.0000,  0.0000,  0.0000,  0.0000,  0.0000,  0.0000,  0.0000,  0.0000,\n",
       "         0.0000,  0.0000,  0.0000,  0.0000,  0.0000,  0.0000,  0.0000,  0.0000,\n",
       "         0.0000,  0.0000,  0.0000,  0.0000,  0.0000,  0.0000,  0.0000,  0.0000,\n",
       "         0.0000,  0.0000,  0.0000,  0.0000,  0.0000,  0.0000,  0.0000,  0.0000,\n",
       "         0.0000,  0.0000,  0.0000,  0.0000,  0.0000,  0.0000,  0.0000,  0.0000,\n",
       "         0.0000,  0.0000,  0.0000,  0.0000,  0.0000,  0.0000,  0.0000,  0.0000,\n",
       "         0.0000,  0.0000,  0.0000,  0.0000,  0.0000,  0.0000,  0.0000,  0.0000,\n",
       "         0.0000,  0.0000,  0.0000,  0.0000,  0.0000,  0.0000,  0.0000,  0.0000,\n",
       "         0.0000,  0.0000,  0.0000,  0.0000,  0.0000,  0.0000,  0.0000,  0.0000,\n",
       "         0.0000,  0.0000,  0.0000,  0.0000,  0.0000,  0.0000,  0.0000,  0.0000,\n",
       "         0.0000,  0.0000,  0.0000,  0.0000,  0.0000,  0.0000,  0.0000,  0.0000,\n",
       "         0.0000,  0.0000,  0.0000,  0.0000,  0.0000,  0.0000,  0.0000,  0.0000,\n",
       "         0.0000,  0.0000,  0.0000,  0.0000,  0.0000,  0.0000,  0.0000,  0.0000,\n",
       "         0.0000,  0.0000,  0.0000,  0.0000,  0.0000,  0.0000,  0.0000,  0.0000,\n",
       "         0.0000,  0.0000,  0.0000,  0.0000,  0.0000,  0.0000,  0.0000,  0.0000,\n",
       "         0.0000,  0.0000,  0.0000,  0.0000,  0.0000,  0.0000,  0.0000,  0.0000,\n",
       "         0.0000,  0.0000,  0.0000,  0.0000,  0.0000,  0.0000,  0.0000,  0.0000,\n",
       "         0.0000,  0.0000,  0.0000,  0.0000,  0.0000,  0.0000,  0.0000,  0.0000,\n",
       "         0.0000,  0.0000,  0.0000,  0.0000,  0.0000,  0.0000,  0.0000,  0.0000,\n",
       "         0.0000,  0.0000,  0.0000,  0.0000,  0.0000,  0.0000,  0.0000,  0.0000,\n",
       "         0.0000,  0.0000,  0.0000,  0.0000,  0.0000,  0.0000,  0.0000,  0.0000,\n",
       "         0.0000,  0.0000,  0.0000,  0.0000,  0.0000,  0.0000,  0.0000,  0.0000,\n",
       "         0.0000,  0.0000,  0.0000,  0.0000,  0.0000,  0.0000,  0.0000,  0.0000,\n",
       "         0.0000,  0.0000,  0.0000,  0.0000,  0.0000,  0.0000,  0.0000,  0.0000,\n",
       "         0.0000,  0.0000,  0.0000,  0.0000,  0.0000,  0.0000,  0.0000,  0.0000,\n",
       "         0.0000,  0.0000,  0.0000,  0.0000,  0.0000,  0.0000,  0.0000,  0.0000,\n",
       "         0.0000,  0.0000,  0.0000,  0.0000,  0.0000,  0.0000,  0.0000,  0.0000,\n",
       "         0.0000,  0.0000,  0.0000,  0.0000,  0.0000,  0.0000,  0.0000,  0.0000,\n",
       "         0.0000,  0.0000,  0.0000,  0.0000,  0.0000,  0.0000,  0.0000,  0.0000,\n",
       "         0.0000,  0.0000,  0.0000,  0.0000,  0.0000,  0.0000,  0.0000,  0.0000,\n",
       "         0.0000,  0.0000,  0.0000,  0.0000,  0.0000,  0.0000,  0.0000,  0.0000,\n",
       "         0.0000,  0.0000,  0.0000,  0.0000,  0.0000,  0.0000,  0.0000,  0.0000,\n",
       "         0.0000,  0.0000,  0.0000,  0.0000,  0.0000,  0.0000,  0.0000,  0.0000,\n",
       "         0.0000,  0.0000,  0.0000,  0.0000,  0.0000,  0.0000,  0.0000,  0.0000,\n",
       "         0.0000,  0.0000,  0.0000,  0.0000,  0.0000,  0.0000,  0.0000,  0.0000,\n",
       "         0.0000,  0.0000,  0.0000,  0.0000,  0.0000,  0.0000,  0.0000,  0.0000,\n",
       "         0.0000,  0.0000,  0.0000,  0.0000,  0.0000,  0.0000,  0.0000,  0.0000,\n",
       "         0.0000,  0.0000,  0.0000,  0.0000,  0.0000,  0.0000,  0.0000,  0.0000,\n",
       "         0.0000,  0.0000,  0.0000,  0.0000,  0.0000,  0.0000,  0.0000,  0.0000,\n",
       "         0.0000,  0.0000,  0.0000,  0.0000,  0.0000,  0.0000,  0.0000,  0.0000,\n",
       "         0.0000,  0.0000,  0.0000,  0.0000,  0.0000,  0.0000,  0.0000,  0.0000,\n",
       "         0.0000,  0.0000,  0.0000,  0.0000,  0.0000,  0.0000,  0.0000,  0.0000,\n",
       "         0.0000,  0.0000,  0.0000,  0.0000,  0.0000,  0.0000,  0.0000,  0.0000,\n",
       "         0.0000,  0.0000,  0.0000,  0.0000,  0.0000,  0.0000,  0.0000,  0.0000,\n",
       "         0.0000,  0.0000,  0.0000,  0.0000,  0.0000,  0.0000,  0.0000,  0.0000,\n",
       "         0.0000,  0.0000,  0.0000,  0.0000,  0.0000,  0.0000,  0.0000,  0.0000,\n",
       "         0.0000,  0.0000,  0.0000,  0.0000,  0.0000,  0.0000,  0.0000,  0.0000,\n",
       "         0.0000,  0.0000,  0.0000,  0.0000,  0.0000,  0.0000,  0.0000,  0.0000,\n",
       "         0.0000,  0.0000,  0.0000,  0.0000,  0.0000,  0.0000,  0.0000,  0.0000,\n",
       "         0.0000,  0.0000,  0.0000,  0.0000,  0.0000,  0.0000,  0.0000,  0.0000,\n",
       "         0.0000,  0.0000,  0.0000,  0.0000,  0.0000,  0.0000,  0.0000,  0.0000,\n",
       "         0.0000,  0.0000,  0.0000,  0.0000,  0.0000,  0.0000,  0.0000,  0.0000,\n",
       "         0.0000,  0.0000,  0.0000,  0.0000,  0.0000,  0.0000,  0.0000,  0.0000,\n",
       "         0.0000,  0.0000,  0.0000,  0.0000,  0.0000,  0.0000,  0.0000,  0.0000,\n",
       "         0.0000,  0.0000,  0.0000,  0.0000,  0.0000,  0.0000,  0.0000,  0.0000,\n",
       "         0.0000,  0.0000,  0.0000,  0.0000,  0.0000,  0.0000,  0.0000,  0.0000,\n",
       "         0.0000,  0.0000,  0.0000,  0.0000,  0.0000,  0.0000,  0.0000,  0.0000,\n",
       "         0.0000,  0.0000,  0.0000,  0.0000,  0.0000,  0.0000,  0.0000,  0.0000,\n",
       "         0.0000,  0.0000,  0.0000,  0.0000,  0.0000,  0.0000,  0.0000,  0.0000,\n",
       "         0.0000,  0.0000,  0.0000,  0.0000,  0.0000,  0.0000,  0.0000,  0.0000])"
      ]
     },
     "execution_count": 99,
     "metadata": {},
     "output_type": "execute_result"
    }
   ],
   "source": [
    "T @ G[1]"
   ]
  },
  {
   "cell_type": "code",
   "execution_count": 100,
   "id": "da787fc9-bc4f-4c78-a0b6-c96274f4aaff",
   "metadata": {},
   "outputs": [
    {
     "data": {
      "text/plain": [
       "tensor([ 0.8944, -0.2236, -0.2236, -0.2236, -0.2236,  0.0000,  0.0000,  0.0000,\n",
       "         0.0000,  0.0000,  0.0000,  0.0000,  0.0000,  0.0000,  0.0000,  0.0000,\n",
       "         0.0000,  0.0000,  0.0000,  0.0000,  0.0000,  0.0000,  0.0000,  0.0000,\n",
       "         0.0000,  0.0000,  0.0000,  0.0000,  0.0000,  0.0000,  0.0000,  0.0000,\n",
       "         0.0000,  0.0000,  0.0000,  0.0000,  0.0000,  0.0000,  0.0000,  0.0000,\n",
       "         0.0000,  0.0000,  0.0000,  0.0000,  0.0000,  0.0000,  0.0000,  0.0000,\n",
       "         0.0000,  0.0000,  0.0000,  0.0000,  0.0000,  0.0000,  0.0000,  0.0000,\n",
       "         0.0000,  0.0000,  0.0000,  0.0000,  0.0000,  0.0000,  0.0000,  0.0000,\n",
       "         0.0000,  0.0000,  0.0000,  0.0000,  0.0000,  0.0000,  0.0000,  0.0000,\n",
       "         0.0000,  0.0000,  0.0000,  0.0000,  0.0000,  0.0000,  0.0000,  0.0000,\n",
       "         0.0000,  0.0000,  0.0000,  0.0000,  0.0000,  0.0000,  0.0000,  0.0000,\n",
       "         0.0000,  0.0000,  0.0000,  0.0000,  0.0000,  0.0000,  0.0000,  0.0000,\n",
       "         0.0000,  0.0000,  0.0000,  0.0000,  0.0000,  0.0000,  0.0000,  0.0000,\n",
       "         0.0000,  0.0000,  0.0000,  0.0000,  0.0000,  0.0000,  0.0000,  0.0000,\n",
       "         0.0000,  0.0000,  0.0000,  0.0000,  0.0000,  0.0000,  0.0000,  0.0000,\n",
       "         0.0000,  0.0000,  0.0000,  0.0000,  0.0000,  0.0000,  0.0000,  0.0000,\n",
       "         0.0000,  0.0000,  0.0000,  0.0000,  0.0000,  0.0000,  0.0000,  0.0000,\n",
       "         0.0000,  0.0000,  0.0000,  0.0000,  0.0000,  0.0000,  0.0000,  0.0000,\n",
       "         0.0000,  0.0000,  0.0000,  0.0000,  0.0000,  0.0000,  0.0000,  0.0000,\n",
       "         0.0000,  0.0000,  0.0000,  0.0000,  0.0000,  0.0000,  0.0000,  0.0000,\n",
       "         0.0000,  0.0000,  0.0000,  0.0000,  0.0000,  0.0000,  0.0000,  0.0000,\n",
       "         0.0000,  0.0000,  0.0000,  0.0000,  0.0000,  0.0000,  0.0000,  0.0000,\n",
       "         0.0000,  0.0000,  0.0000,  0.0000,  0.0000,  0.0000,  0.0000,  0.0000,\n",
       "         0.0000,  0.0000,  0.0000,  0.0000,  0.0000,  0.0000,  0.0000,  0.0000,\n",
       "         0.0000,  0.0000,  0.0000,  0.0000,  0.0000,  0.0000,  0.0000,  0.0000,\n",
       "         0.0000,  0.0000,  0.0000,  0.0000,  0.0000,  0.0000,  0.0000,  0.0000,\n",
       "         0.0000,  0.0000,  0.0000,  0.0000,  0.0000,  0.0000,  0.0000,  0.0000,\n",
       "         0.0000,  0.0000,  0.0000,  0.0000,  0.0000,  0.0000,  0.0000,  0.0000,\n",
       "         0.0000,  0.0000,  0.0000,  0.0000,  0.0000,  0.0000,  0.0000,  0.0000,\n",
       "         0.0000,  0.0000,  0.0000,  0.0000,  0.0000,  0.0000,  0.0000,  0.0000,\n",
       "         0.0000,  0.0000,  0.0000,  0.0000,  0.0000,  0.0000,  0.0000,  0.0000,\n",
       "         0.0000,  0.0000,  0.0000,  0.0000,  0.0000,  0.0000,  0.0000,  0.0000,\n",
       "         0.0000,  0.0000,  0.0000,  0.0000,  0.0000,  0.0000,  0.0000,  0.0000,\n",
       "         0.0000,  0.0000,  0.0000,  0.0000,  0.0000,  0.0000,  0.0000,  0.0000,\n",
       "         0.0000,  0.0000,  0.0000,  0.0000,  0.0000,  0.0000,  0.0000,  0.0000,\n",
       "         0.0000,  0.0000,  0.0000,  0.0000,  0.0000,  0.0000,  0.0000,  0.0000,\n",
       "         0.0000,  0.0000,  0.0000,  0.0000,  0.0000,  0.0000,  0.0000,  0.0000,\n",
       "         0.0000,  0.0000,  0.0000,  0.0000,  0.0000,  0.0000,  0.0000,  0.0000,\n",
       "         0.0000,  0.0000,  0.0000,  0.0000,  0.0000,  0.0000,  0.0000,  0.0000,\n",
       "         0.0000,  0.0000,  0.0000,  0.0000,  0.0000,  0.0000,  0.0000,  0.0000,\n",
       "         0.0000,  0.0000,  0.0000,  0.0000,  0.0000,  0.0000,  0.0000,  0.0000,\n",
       "         0.0000,  0.0000,  0.0000,  0.0000,  0.0000,  0.0000,  0.0000,  0.0000,\n",
       "         0.0000,  0.0000,  0.0000,  0.0000,  0.0000,  0.0000,  0.0000,  0.0000,\n",
       "         0.0000,  0.0000,  0.0000,  0.0000,  0.0000,  0.0000,  0.0000,  0.0000,\n",
       "         0.0000,  0.0000,  0.0000,  0.0000,  0.0000,  0.0000,  0.0000,  0.0000,\n",
       "         0.0000,  0.0000,  0.0000,  0.0000,  0.0000,  0.0000,  0.0000,  0.0000,\n",
       "         0.0000,  0.0000,  0.0000,  0.0000,  0.0000,  0.0000,  0.0000,  0.0000,\n",
       "         0.0000,  0.0000,  0.0000,  0.0000,  0.0000,  0.0000,  0.0000,  0.0000,\n",
       "         0.0000,  0.0000,  0.0000,  0.0000,  0.0000,  0.0000,  0.0000,  0.0000,\n",
       "         0.0000,  0.0000,  0.0000,  0.0000,  0.0000,  0.0000,  0.0000,  0.0000,\n",
       "         0.0000,  0.0000,  0.0000,  0.0000,  0.0000,  0.0000,  0.0000,  0.0000,\n",
       "         0.0000,  0.0000,  0.0000,  0.0000,  0.0000,  0.0000,  0.0000,  0.0000,\n",
       "         0.0000,  0.0000,  0.0000,  0.0000,  0.0000,  0.0000,  0.0000,  0.0000,\n",
       "         0.0000,  0.0000,  0.0000,  0.0000,  0.0000,  0.0000,  0.0000,  0.0000,\n",
       "         0.0000,  0.0000,  0.0000,  0.0000,  0.0000,  0.0000,  0.0000,  0.0000,\n",
       "         0.0000,  0.0000,  0.0000,  0.0000,  0.0000,  0.0000,  0.0000,  0.0000,\n",
       "         0.0000,  0.0000,  0.0000,  0.0000,  0.0000,  0.0000,  0.0000,  0.0000,\n",
       "         0.0000,  0.0000,  0.0000,  0.0000,  0.0000,  0.0000,  0.0000,  0.0000,\n",
       "         0.0000,  0.0000,  0.0000,  0.0000,  0.0000,  0.0000,  0.0000,  0.0000,\n",
       "         0.0000,  0.0000,  0.0000,  0.0000,  0.0000,  0.0000,  0.0000,  0.0000,\n",
       "         0.0000,  0.0000,  0.0000,  0.0000,  0.0000,  0.0000,  0.0000,  0.0000,\n",
       "         0.0000,  0.0000,  0.0000,  0.0000,  0.0000,  0.0000,  0.0000,  0.0000,\n",
       "         0.0000,  0.0000,  0.0000,  0.0000,  0.0000,  0.0000,  0.0000,  0.0000,\n",
       "         0.0000,  0.0000,  0.0000,  0.0000,  0.0000,  0.0000,  0.0000,  0.0000,\n",
       "         0.0000,  0.0000,  0.0000,  0.0000,  0.0000,  0.0000,  0.0000,  0.0000,\n",
       "         0.0000,  0.0000,  0.0000,  0.0000,  0.0000,  0.0000,  0.0000,  0.0000,\n",
       "         0.0000,  0.0000,  0.0000,  0.0000,  0.0000,  0.0000,  0.0000,  0.0000,\n",
       "         0.0000,  0.0000,  0.0000,  0.0000,  0.0000,  0.0000,  0.0000,  0.0000,\n",
       "         0.0000,  0.0000,  0.0000,  0.0000,  0.0000,  0.0000,  0.0000,  0.0000,\n",
       "         0.0000,  0.0000,  0.0000,  0.0000,  0.0000,  0.0000,  0.0000,  0.0000,\n",
       "         0.0000,  0.0000,  0.0000,  0.0000,  0.0000,  0.0000,  0.0000,  0.0000,\n",
       "         0.0000,  0.0000,  0.0000,  0.0000,  0.0000,  0.0000,  0.0000,  0.0000,\n",
       "         0.0000,  0.0000,  0.0000,  0.0000,  0.0000,  0.0000,  0.0000,  0.0000,\n",
       "         0.0000,  0.0000,  0.0000,  0.0000,  0.0000,  0.0000,  0.0000,  0.0000,\n",
       "         0.0000,  0.0000,  0.0000,  0.0000,  0.0000,  0.0000,  0.0000,  0.0000,\n",
       "         0.0000,  0.0000,  0.0000,  0.0000,  0.0000,  0.0000,  0.0000,  0.0000,\n",
       "         0.0000,  0.0000,  0.0000,  0.0000,  0.0000,  0.0000,  0.0000,  0.0000,\n",
       "         0.0000,  0.0000,  0.0000,  0.0000,  0.0000,  0.0000,  0.0000,  0.0000,\n",
       "         0.0000,  0.0000,  0.0000,  0.0000,  0.0000,  0.0000,  0.0000,  0.0000,\n",
       "         0.0000,  0.0000,  0.0000,  0.0000,  0.0000,  0.0000,  0.0000,  0.0000,\n",
       "         0.0000,  0.0000,  0.0000,  0.0000,  0.0000,  0.0000,  0.0000,  0.0000,\n",
       "         0.0000,  0.0000,  0.0000,  0.0000,  0.0000,  0.0000,  0.0000,  0.0000,\n",
       "         0.0000,  0.0000,  0.0000,  0.0000,  0.0000,  0.0000,  0.0000,  0.0000,\n",
       "         0.0000,  0.0000,  0.0000,  0.0000,  0.0000,  0.0000,  0.0000,  0.0000,\n",
       "         0.0000,  0.0000,  0.0000,  0.0000,  0.0000,  0.0000,  0.0000,  0.0000,\n",
       "         0.0000,  0.0000,  0.0000,  0.0000,  0.0000,  0.0000,  0.0000,  0.0000,\n",
       "         0.0000,  0.0000,  0.0000,  0.0000,  0.0000,  0.0000,  0.0000,  0.0000,\n",
       "         0.0000,  0.0000,  0.0000,  0.0000,  0.0000,  0.0000,  0.0000,  0.0000,\n",
       "         0.0000,  0.0000,  0.0000,  0.0000,  0.0000,  0.0000,  0.0000,  0.0000,\n",
       "         0.0000,  0.0000,  0.0000,  0.0000,  0.0000,  0.0000,  0.0000,  0.0000,\n",
       "         0.0000,  0.0000,  0.0000,  0.0000,  0.0000,  0.0000,  0.0000,  0.0000,\n",
       "         0.0000,  0.0000,  0.0000,  0.0000,  0.0000,  0.0000,  0.0000,  0.0000,\n",
       "         0.0000,  0.0000,  0.0000,  0.0000,  0.0000,  0.0000,  0.0000,  0.0000,\n",
       "         0.0000,  0.0000,  0.0000,  0.0000,  0.0000,  0.0000,  0.0000,  0.0000,\n",
       "         0.0000,  0.0000,  0.0000,  0.0000,  0.0000,  0.0000,  0.0000,  0.0000,\n",
       "         0.0000,  0.0000,  0.0000,  0.0000,  0.0000,  0.0000,  0.0000,  0.0000])"
      ]
     },
     "execution_count": 100,
     "metadata": {},
     "output_type": "execute_result"
    }
   ],
   "source": [
    "G_tilde[1]"
   ]
  },
  {
   "cell_type": "code",
   "execution_count": null,
   "id": "31924107-f6be-4e4e-bc3b-9823854c2c41",
   "metadata": {},
   "outputs": [],
   "source": []
  },
  {
   "cell_type": "code",
   "execution_count": null,
   "id": "443d4c32-8a0a-4238-af45-9e456e9a5efe",
   "metadata": {},
   "outputs": [],
   "source": []
  }
 ],
 "metadata": {
  "kernelspec": {
   "display_name": "DEEP",
   "language": "python",
   "name": "deep"
  },
  "language_info": {
   "codemirror_mode": {
    "name": "ipython",
    "version": 3
   },
   "file_extension": ".py",
   "mimetype": "text/x-python",
   "name": "python",
   "nbconvert_exporter": "python",
   "pygments_lexer": "ipython3",
   "version": "3.8.12"
  }
 },
 "nbformat": 4,
 "nbformat_minor": 5
}
